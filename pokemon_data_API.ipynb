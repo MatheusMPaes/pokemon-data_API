{
  "nbformat": 4,
  "nbformat_minor": 0,
  "metadata": {
    "colab": {
      "provenance": []
    },
    "kernelspec": {
      "name": "python3",
      "display_name": "Python 3"
    },
    "language_info": {
      "name": "python"
    }
  },
  "cells": [
    {
      "cell_type": "markdown",
      "source": [
        "# **Extração e Comparação de Dados da PokeAPI.**\n",
        "# Atividade\n",
        "  \n",
        "* Primeiramente, o usuário deve escolher dois Pokémon (utilizando input), dentre os 1025 disponíveis.\n",
        "* Em seguida, o programa exibirá os nomes e pesos dos Pokémon selecionados.\n",
        "* Por fim, será informado qual dos dois é o mais pesado."
      ],
      "metadata": {
        "id": "FkOCSQ8Rtf3C"
      }
    },
    {
      "cell_type": "code",
      "source": [
        "import requests\n",
        "\n",
        "  # Parte para escolher o primeiro pokemon\n",
        "while True:\n",
        "  N_Pokemon1 = int(input(\"Me diga um número de um pokemon de 1-1025: \"))\n",
        "  if 0 < N_Pokemon1 <= 1025:\n",
        "    break\n",
        "\n",
        "  else:\n",
        "    print(\"Pokemon não encontrado, tente novamente\")\n",
        "\n",
        "url = f\"https://pokeapi.co/api/v2/pokemon-form/{N_Pokemon1}/\"\n",
        "\n",
        "response = requests.get(url)\n",
        "data = response.json()\n",
        "\n",
        "  # Parte que retorna o nome.\n",
        "if response.status_code == 200:\n",
        "  print(f\"Nome do pokemon:{data['name']}\")\n",
        "else:\n",
        "  print(f\"Pokemon não encontrado\")\n",
        "\n",
        "url = f\"https://pokeapi.co/api/v2/pokemon/{data['name']}/\"\n",
        "\n",
        "response = requests.get(url)\n",
        "data = response.json()\n",
        "\n",
        "  # Parte que retorna o peso.\n",
        "if response.status_code == 200:\n",
        "  print(f\"Seu Pokemon pesa:{data['weight']} lb\")\n",
        "else:\n",
        "  print(f\"Pokemon não encontrado\")\n",
        "\n",
        "Nome_Pokemon1 = data['name']\n",
        "Peso_Pokemon1 = data['weight']\n",
        "\n",
        "  # Parte para escolher o segundo pokemon\n",
        "while True:\n",
        "  N_Pokemon2 = int(input(\"Me diga um número de um pokemon de 1-1025: \"))\n",
        "  if 0 < N_Pokemon2 <= 1025:\n",
        "    break\n",
        "\n",
        "  else:\n",
        "    print(\"Pokemon não encontrado, tente novamente\")\n",
        "\n",
        "url = f\"https://pokeapi.co/api/v2/pokemon-form/{N_Pokemon2}/\"\n",
        "\n",
        "response = requests.get(url)\n",
        "data = response.json()\n",
        "\n",
        "  # Parte que retorna o nome.\n",
        "if response.status_code == 200:\n",
        "  print(f\"Nome do pokemon:{data['name']}\")\n",
        "else:\n",
        "  print(f\"Pokemon não encontrado\")\n",
        "\n",
        "url = f\"https://pokeapi.co/api/v2/pokemon/{data['name']}/\"\n",
        "\n",
        "response = requests.get(url)\n",
        "data = response.json()\n",
        "\n",
        "  # Parte que retorna o peso.\n",
        "if response.status_code == 200:\n",
        "  print(f\"Seu Pokemon pesa:{data['weight']} lb\")\n",
        "else:\n",
        "  print(f\"Pokemon não encontrado\")\n",
        "\n",
        "Nome_Pokemon2 = data['name']\n",
        "Peso_Pokemon2 = data['weight']\n",
        "\n",
        "if Peso_Pokemon1 > Peso_Pokemon2:\n",
        "  print(f\"O {Nome_Pokemon1} é mais pesado que {Nome_Pokemon2}\")\n",
        "else:\n",
        "  print(f\"O {Nome_Pokemon2} é mais pesado que {Nome_Pokemon1}\")"
      ],
      "metadata": {
        "colab": {
          "base_uri": "https://localhost:8080/"
        },
        "id": "Zh3BhgDUkVGJ",
        "outputId": "9cc01901-3a3d-4974-cc65-0298513de77e"
      },
      "execution_count": null,
      "outputs": [
        {
          "output_type": "stream",
          "name": "stdout",
          "text": [
            "Me diga um número de um pokemon de 1-1025: 246\n",
            "Nome do pokemon:larvitar\n",
            "Seu Pokemon pesa:720 lb\n",
            "Me diga um número de um pokemon de 1-1025: 458\n",
            "Nome do pokemon:mantyke\n",
            "Seu Pokemon pesa:650 lb\n",
            "O larvitar é mais pesado que mantyke\n"
          ]
        }
      ]
    }
  ]
}